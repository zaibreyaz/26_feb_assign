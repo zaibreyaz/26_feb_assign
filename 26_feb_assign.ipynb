{
 "cells": [
  {
   "cell_type": "code",
   "execution_count": 2,
   "id": "7c0e8bee-0f43-4826-bfe2-202984a9c7f1",
   "metadata": {},
   "outputs": [],
   "source": [
    "# Consider the below code to answer further questions:\n",
    "import numpy as np\n",
    "list_ = [ '1' , '2' , '3' , '4' , '5' ]\n",
    "array_list = np.array(object = list_)"
   ]
  },
  {
   "cell_type": "code",
   "execution_count": 3,
   "id": "63d68e4f-5758-443d-8352-2a5d3d349e1a",
   "metadata": {},
   "outputs": [
    {
     "name": "stdout",
     "output_type": "stream",
     "text": [
      "<class 'list'>\n",
      "<class 'numpy.ndarray'>\n"
     ]
    }
   ],
   "source": [
    "\"\"\"Q1. Is there any difference in the data type of variables list_ and array_list? If there is then write a code to print the data types\n",
    "       of both the variables.\"\"\"\n",
    "# Ans: Yes, there is difference between list_ and array_list\n",
    "print(type(list_))\n",
    "print(type(array_list))"
   ]
  },
  {
   "cell_type": "code",
   "execution_count": 5,
   "id": "131dd246-913a-48f1-b7b9-f97aef320498",
   "metadata": {},
   "outputs": [
    {
     "name": "stdout",
     "output_type": "stream",
     "text": [
      "Types of elements of list_:\n",
      "<class 'str'>\n",
      "<class 'str'>\n",
      "<class 'str'>\n",
      "<class 'str'>\n",
      "<class 'str'>\n",
      "\n",
      "Types of elements of array_list: \n",
      "<class 'numpy.str_'>\n",
      "<class 'numpy.str_'>\n",
      "<class 'numpy.str_'>\n",
      "<class 'numpy.str_'>\n",
      "<class 'numpy.str_'>\n"
     ]
    }
   ],
   "source": [
    "\"\"\"Q2. Write a code to print the data type of each and every element of both the variables list_ and array_list.\"\"\"\n",
    "print(\"Types of elements of list_:\")\n",
    "for i in list_:\n",
    "    print(type(i))\n",
    "\n",
    "print()\n",
    "print(\"Types of elements of array_list: \")\n",
    "for i in array_list:\n",
    "    print(type(i))"
   ]
  },
  {
   "cell_type": "code",
   "execution_count": 8,
   "id": "4975d943-ad4e-4aeb-b965-6eee1c95eeb6",
   "metadata": {},
   "outputs": [
    {
     "name": "stdout",
     "output_type": "stream",
     "text": [
      "Types of elements of list_:\n",
      "<class 'str'>\n",
      "<class 'str'>\n",
      "<class 'str'>\n",
      "<class 'str'>\n",
      "<class 'str'>\n",
      "\n",
      "Types of elements of array_list: \n",
      "<class 'numpy.int64'>\n",
      "<class 'numpy.int64'>\n",
      "<class 'numpy.int64'>\n",
      "<class 'numpy.int64'>\n",
      "<class 'numpy.int64'>\n"
     ]
    }
   ],
   "source": [
    "\"\"\"Q3. Considering the following changes in the variable, array_list: \n",
    "    array_list = np.array(object = list_, dtype = int)\n",
    "    Will there be any difference in the data type of the elements present in both the variables, list_ and\n",
    "    array_list? If so then print the data types of each and every element present in both the variables, list_ and array_list.\"\"\"\n",
    "array_list = np.array(object = list_, dtype = int)\n",
    "\n",
    "# Yes, there will be difference in datatypes.\n",
    "\n",
    "print(\"Types of elements of list_:\")\n",
    "for i in list_:\n",
    "    print(type(i))\n",
    "\n",
    "print()\n",
    "print(\"Types of elements of array_list: \")\n",
    "for i in array_list:\n",
    "    print(type(i))"
   ]
  },
  {
   "cell_type": "code",
   "execution_count": 9,
   "id": "a67f42f0-95cd-4caa-9f2c-6cbcd3fa3f8b",
   "metadata": {},
   "outputs": [],
   "source": [
    "\"\"\"Consider the below code to answer further questions:\"\"\"\n",
    "import numpy as np\n",
    "num_list = [ [ 1 , 2 , 3 ] , [ 4 , 5 , 6 ] ]\n",
    "num_array = np.array(object = num_list)"
   ]
  },
  {
   "cell_type": "code",
   "execution_count": 11,
   "id": "e50f9ace-7002-457f-bf81-258781b2cb24",
   "metadata": {},
   "outputs": [
    {
     "name": "stdout",
     "output_type": "stream",
     "text": [
      "Shape :  (2, 3)\n",
      "Size :  6\n"
     ]
    }
   ],
   "source": [
    "\"\"\"Q4. Write a code to find the following characteristics of variable, num_array:\n",
    "(i) shape\n",
    "(ii) size\"\"\"\n",
    "\n",
    "print(\"Shape : \", np.shape(num_array))\n",
    "print(\"Size : \", np.size(num_array))"
   ]
  },
  {
   "cell_type": "code",
   "execution_count": 13,
   "id": "46387514-8405-4be7-9244-af582fcb38d3",
   "metadata": {},
   "outputs": [
    {
     "data": {
      "text/plain": [
       "array([[0., 0., 0.],\n",
       "       [0., 0., 0.],\n",
       "       [0., 0., 0.]])"
      ]
     },
     "execution_count": 13,
     "metadata": {},
     "output_type": "execute_result"
    }
   ],
   "source": [
    "\"\"\"Q5. Write a code to create numpy array of 3*3 matrix containing zeros only, using a numpy array\n",
    "creation function.\n",
    "[Hint: The size of the array will be 9 and the shape will be (3,3).]\"\"\"\n",
    "\n",
    "num_array = np.zeros((3,3))\n",
    "print(\"Shape : \", np.shape(num_array))\n",
    "print(\"Size : \", np.size(num_array))"
   ]
  },
  {
   "cell_type": "code",
   "execution_count": 14,
   "id": "7434f0e4-a0f0-4c81-8854-c9d46b5981e6",
   "metadata": {},
   "outputs": [
    {
     "data": {
      "text/plain": [
       "array([[1., 0., 0., 0., 0.],\n",
       "       [0., 1., 0., 0., 0.],\n",
       "       [0., 0., 1., 0., 0.],\n",
       "       [0., 0., 0., 1., 0.],\n",
       "       [0., 0., 0., 0., 1.]])"
      ]
     },
     "execution_count": 14,
     "metadata": {},
     "output_type": "execute_result"
    }
   ],
   "source": [
    "\"\"\"Q6. Create an identity matrix of shape (5,5) using numpy functions?\n",
    "[Hint: An identity matrix is a matrix containing 1 diagonally and other elements will be 0.]\"\"\"\n",
    "\n",
    "identity = np.eye(5)\n",
    "identity"
   ]
  },
  {
   "cell_type": "code",
   "execution_count": null,
   "id": "2735ffcd-a5a6-416f-b6d8-12886e95c909",
   "metadata": {},
   "outputs": [],
   "source": []
  }
 ],
 "metadata": {
  "kernelspec": {
   "display_name": "Python 3 (ipykernel)",
   "language": "python",
   "name": "python3"
  },
  "language_info": {
   "codemirror_mode": {
    "name": "ipython",
    "version": 3
   },
   "file_extension": ".py",
   "mimetype": "text/x-python",
   "name": "python",
   "nbconvert_exporter": "python",
   "pygments_lexer": "ipython3",
   "version": "3.10.8"
  }
 },
 "nbformat": 4,
 "nbformat_minor": 5
}
